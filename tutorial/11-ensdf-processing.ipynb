{
 "metadata": {
  "name": "",
  "signature": "sha256:bc655859e63ab1efb24ae93534e8fb9e9f6da26f3a5433df04653da34727fcc6"
 },
 "nbformat": 3,
 "nbformat_minor": 0,
 "worksheets": [
  {
   "cells": [
    {
     "cell_type": "heading",
     "level": 1,
     "metadata": {},
     "source": [
      "ENSDF Processing Tutorial"
     ]
    },
    {
     "cell_type": "markdown",
     "metadata": {},
     "source": [
      "ensdf_processing is a pyne module that contains ensdf evaluation tools.  It includes ALPHAD, BRICC, DELTA, GABS, GTOL, BLDHST, HSICC, HSMRG, SEQHST, LOGFT, RADLIST, RADD and RULER.  FUll documentation for the internal structure of each can be found at:\n",
      "\n",
      "http://www.nndc.bnl.gov/nndcscr/ensdf_pgm/analysis/\n",
      "\n",
      "Examples of the Python interface for these evaluation tools follows."
     ]
    },
    {
     "cell_type": "code",
     "collapsed": false,
     "input": [
      "import pyne\n",
      "from pyne import ensdf_processing"
     ],
     "language": "python",
     "metadata": {},
     "outputs": [],
     "prompt_number": 2
    },
    {
     "cell_type": "code",
     "collapsed": false,
     "input": [
      "input_dict = {'Name': 'Jane', 'Age': 27};"
     ],
     "language": "python",
     "metadata": {},
     "outputs": [],
     "prompt_number": 3
    },
    {
     "cell_type": "markdown",
     "metadata": {},
     "source": [
      "The spatial solver module takes in a dictionary that contains all of the input information required to run the solvers.  There are many entries to allow a high degree of customization, not all of which are required.  To find which entries are required, see the spatial solver documentation in the python api."
     ]
    }
   ],
   "metadata": {}
  }
 ]
}